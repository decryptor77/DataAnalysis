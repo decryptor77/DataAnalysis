{
 "cells": [
  {
   "cell_type": "code",
   "execution_count": 1,
   "metadata": {},
   "outputs": [],
   "source": [
    "import numpy as np\n",
    "import pandas as pd\n",
    "import matplotlib.pyplot as plt\n",
    "import seaborn as sns"
   ]
  },
  {
   "cell_type": "code",
   "execution_count": 2,
   "metadata": {},
   "outputs": [
    {
     "data": {
      "text/html": [
       "<div>\n",
       "<style scoped>\n",
       "    .dataframe tbody tr th:only-of-type {\n",
       "        vertical-align: middle;\n",
       "    }\n",
       "\n",
       "    .dataframe tbody tr th {\n",
       "        vertical-align: top;\n",
       "    }\n",
       "\n",
       "    .dataframe thead th {\n",
       "        text-align: right;\n",
       "    }\n",
       "</style>\n",
       "<table border=\"1\" class=\"dataframe\">\n",
       "  <thead>\n",
       "    <tr style=\"text-align: right;\">\n",
       "      <th></th>\n",
       "      <th>school</th>\n",
       "      <th>sex</th>\n",
       "      <th>age</th>\n",
       "      <th>address</th>\n",
       "      <th>famsize</th>\n",
       "      <th>Pstatus</th>\n",
       "      <th>Medu</th>\n",
       "      <th>Fedu</th>\n",
       "      <th>Mjob</th>\n",
       "      <th>Fjob</th>\n",
       "      <th>...</th>\n",
       "      <th>freetime</th>\n",
       "      <th>goout</th>\n",
       "      <th>Dalc</th>\n",
       "      <th>Walc</th>\n",
       "      <th>health</th>\n",
       "      <th>absences</th>\n",
       "      <th>G1</th>\n",
       "      <th>G2</th>\n",
       "      <th>G3</th>\n",
       "      <th>class</th>\n",
       "    </tr>\n",
       "  </thead>\n",
       "  <tbody>\n",
       "    <tr>\n",
       "      <td>0</td>\n",
       "      <td>GP</td>\n",
       "      <td>F</td>\n",
       "      <td>18</td>\n",
       "      <td>U</td>\n",
       "      <td>GT3</td>\n",
       "      <td>A</td>\n",
       "      <td>4</td>\n",
       "      <td>4</td>\n",
       "      <td>at_home</td>\n",
       "      <td>teacher</td>\n",
       "      <td>...</td>\n",
       "      <td>3</td>\n",
       "      <td>4</td>\n",
       "      <td>1</td>\n",
       "      <td>1</td>\n",
       "      <td>3</td>\n",
       "      <td>6</td>\n",
       "      <td>5</td>\n",
       "      <td>6</td>\n",
       "      <td>6</td>\n",
       "      <td>Math</td>\n",
       "    </tr>\n",
       "    <tr>\n",
       "      <td>1</td>\n",
       "      <td>GP</td>\n",
       "      <td>F</td>\n",
       "      <td>17</td>\n",
       "      <td>U</td>\n",
       "      <td>GT3</td>\n",
       "      <td>T</td>\n",
       "      <td>1</td>\n",
       "      <td>1</td>\n",
       "      <td>at_home</td>\n",
       "      <td>other</td>\n",
       "      <td>...</td>\n",
       "      <td>3</td>\n",
       "      <td>3</td>\n",
       "      <td>1</td>\n",
       "      <td>1</td>\n",
       "      <td>3</td>\n",
       "      <td>4</td>\n",
       "      <td>5</td>\n",
       "      <td>5</td>\n",
       "      <td>6</td>\n",
       "      <td>Math</td>\n",
       "    </tr>\n",
       "    <tr>\n",
       "      <td>2</td>\n",
       "      <td>GP</td>\n",
       "      <td>F</td>\n",
       "      <td>15</td>\n",
       "      <td>U</td>\n",
       "      <td>LE3</td>\n",
       "      <td>T</td>\n",
       "      <td>1</td>\n",
       "      <td>1</td>\n",
       "      <td>at_home</td>\n",
       "      <td>other</td>\n",
       "      <td>...</td>\n",
       "      <td>3</td>\n",
       "      <td>2</td>\n",
       "      <td>2</td>\n",
       "      <td>3</td>\n",
       "      <td>3</td>\n",
       "      <td>10</td>\n",
       "      <td>7</td>\n",
       "      <td>8</td>\n",
       "      <td>10</td>\n",
       "      <td>Math</td>\n",
       "    </tr>\n",
       "    <tr>\n",
       "      <td>3</td>\n",
       "      <td>GP</td>\n",
       "      <td>F</td>\n",
       "      <td>15</td>\n",
       "      <td>U</td>\n",
       "      <td>GT3</td>\n",
       "      <td>T</td>\n",
       "      <td>4</td>\n",
       "      <td>2</td>\n",
       "      <td>health</td>\n",
       "      <td>services</td>\n",
       "      <td>...</td>\n",
       "      <td>2</td>\n",
       "      <td>2</td>\n",
       "      <td>1</td>\n",
       "      <td>1</td>\n",
       "      <td>5</td>\n",
       "      <td>2</td>\n",
       "      <td>15</td>\n",
       "      <td>14</td>\n",
       "      <td>15</td>\n",
       "      <td>Math</td>\n",
       "    </tr>\n",
       "    <tr>\n",
       "      <td>4</td>\n",
       "      <td>GP</td>\n",
       "      <td>F</td>\n",
       "      <td>16</td>\n",
       "      <td>U</td>\n",
       "      <td>GT3</td>\n",
       "      <td>T</td>\n",
       "      <td>3</td>\n",
       "      <td>3</td>\n",
       "      <td>other</td>\n",
       "      <td>other</td>\n",
       "      <td>...</td>\n",
       "      <td>3</td>\n",
       "      <td>2</td>\n",
       "      <td>1</td>\n",
       "      <td>2</td>\n",
       "      <td>5</td>\n",
       "      <td>4</td>\n",
       "      <td>6</td>\n",
       "      <td>10</td>\n",
       "      <td>10</td>\n",
       "      <td>Math</td>\n",
       "    </tr>\n",
       "  </tbody>\n",
       "</table>\n",
       "<p>5 rows × 34 columns</p>\n",
       "</div>"
      ],
      "text/plain": [
       "  school sex  age address famsize Pstatus  Medu  Fedu     Mjob      Fjob  ...  \\\n",
       "0     GP   F   18       U     GT3       A     4     4  at_home   teacher  ...   \n",
       "1     GP   F   17       U     GT3       T     1     1  at_home     other  ...   \n",
       "2     GP   F   15       U     LE3       T     1     1  at_home     other  ...   \n",
       "3     GP   F   15       U     GT3       T     4     2   health  services  ...   \n",
       "4     GP   F   16       U     GT3       T     3     3    other     other  ...   \n",
       "\n",
       "  freetime goout  Dalc  Walc  health absences  G1  G2  G3 class  \n",
       "0        3     4     1     1       3        6   5   6   6  Math  \n",
       "1        3     3     1     1       3        4   5   5   6  Math  \n",
       "2        3     2     2     3       3       10   7   8  10  Math  \n",
       "3        2     2     1     1       5        2  15  14  15  Math  \n",
       "4        3     2     1     2       5        4   6  10  10  Math  \n",
       "\n",
       "[5 rows x 34 columns]"
      ]
     },
     "execution_count": 2,
     "metadata": {},
     "output_type": "execute_result"
    }
   ],
   "source": [
    "#sdf = students data frame\n",
    "sdf = pd.read_csv('HW2-Data.csv')\n",
    "sdf.head()"
   ]
  },
  {
   "cell_type": "markdown",
   "metadata": {},
   "source": [
    "# 1)"
   ]
  },
  {
   "cell_type": "markdown",
   "metadata": {},
   "source": [
    "## a)"
   ]
  },
  {
   "cell_type": "markdown",
   "metadata": {},
   "source": [
    "### The Null Hypothesis: The communities served by the two public schools in this dataset come from a simple random sample of the Portugal population.\n",
    "\n",
    "### The Alternative Hypothesis: the communities served by the two public schools in this dataset DON'T come from a simple random sample of the Portugal population(not by chance)."
   ]
  },
  {
   "cell_type": "markdown",
   "metadata": {},
   "source": [
    "## b)"
   ]
  },
  {
   "cell_type": "markdown",
   "metadata": {},
   "source": [
    "### The test statistic is the number of females we can get if we sample 1044 students out of the population eligible to study in public schools with the probability for females being 51%."
   ]
  },
  {
   "cell_type": "markdown",
   "metadata": {},
   "source": [
    "# c)"
   ]
  },
  {
   "cell_type": "markdown",
   "metadata": {},
   "source": [
    "### Let's find out the number of students in the dataset which will be the sample size & the number of female students in the dataset which will be our observed value. "
   ]
  },
  {
   "cell_type": "code",
   "execution_count": 3,
   "metadata": {},
   "outputs": [
    {
     "name": "stdout",
     "output_type": "stream",
     "text": [
      "The total number of students in the dataset is: 1044\n",
      "The total number of female students in the dataset is: 591\n",
      "The percentage of female students in the dataset is: 0.5660919540229885\n"
     ]
    },
    {
     "data": {
      "image/png": "[encoded data removed]",
      "text/plain": [
       "<Figure size 360x360 with 1 Axes>"
      ]
     },
     "metadata": {
      "needs_background": "light"
     },
     "output_type": "display_data"
    }
   ],
   "source": [
    "ax = sns.catplot(data = sdf, x='sex', kind='count')\n",
    "ax.set(ylabel='Number of Students')\n",
    "sdf_students_count=sdf['sex'].count()\n",
    "ax.set(ylabel='Number of Students')\n",
    "sdf_female_count=sdf['sex'][sdf['sex'] == 'F'].count()\n",
    "sdf_female_percentage=(sdf['sex'][sdf['sex'] == 'F'].count())/(sdf['sex'].count())\n",
    "print('The total number of students in the dataset is:',sdf_students_count)\n",
    "print('The total number of female students in the dataset is:',sdf_female_count)\n",
    "print('The percentage of female students in the dataset is:',sdf_female_percentage)"
   ]
  },
  {
   "cell_type": "markdown",
   "metadata": {},
   "source": [
    "### Now I'll take a sample according to the probability given (51%) sized 1044 and count the number of females in the sample, I'll simulate this process 10000 times and each time store the female count in an array.\n",
    "### Then I'll check the number of elements in the array that are equal or bigger than 591(observed value) and divide this number by the number of simulations. \n",
    "### The result that is recieved is the P-Value."
   ]
  },
  {
   "cell_type": "code",
   "execution_count": 4,
   "metadata": {},
   "outputs": [
    {
     "name": "stdout",
     "output_type": "stream",
     "text": [
      "The p-value is 0.0001 .\n"
     ]
    }
   ],
   "source": [
    "gender = ['female', 'male']\n",
    "population_gender_prob = [0.51, 0.49] # probabilities of selection GIVEN THE MODEL IS TRUE\n",
    "schools_size = 1044 #sample size\n",
    "\n",
    "# sample one value\n",
    "def sample_schools_students():\n",
    "    sample_schools = np.random.choice(gender, p=population_gender_prob, size=schools_size)\n",
    "    num_females = np.count_nonzero(sample_schools == 'female')\n",
    "    return num_females\n",
    "\n",
    "# run multiple simulations\n",
    "num_repetitions = 10000\n",
    "samples = np.empty(num_repetitions) # collection array\n",
    "for i in range(num_repetitions):\n",
    "    samples[i] = sample_schools_students()\n",
    "    \n",
    "samples\n",
    "\n",
    "num_samples_with_591_or_more_females = np.count_nonzero(samples >= 591) #observed value = 591 \n",
    "print ('The p-value is', num_samples_with_591_or_more_females/num_repetitions,'.')"
   ]
  },
  {
   "cell_type": "markdown",
   "metadata": {},
   "source": [
    "## d)"
   ]
  },
  {
   "cell_type": "markdown",
   "metadata": {},
   "source": [
    "### The Null Hypothesis is wrong. The communities served by the two public schools in this dataset DON'T come from a simple random sample of the Portugal population(not by chance).\n",
    "### The P-Value = 0.0001 received is lower than the required significance level = 0.01 which means I will reject the Null Hypothesis.\n"
   ]
  },
  {
   "cell_type": "code",
   "execution_count": 5,
   "metadata": {},
   "outputs": [
    {
     "data": {
      "image/png": "[encoded data removed]",
      "text/plain": [
       "<Figure size 432x288 with 1 Axes>"
      ]
     },
     "metadata": {
      "needs_background": "light"
     },
     "output_type": "display_data"
    }
   ],
   "source": [
    "# plot the empirical distribution of the statistic\n",
    "ax = sns.distplot(samples, kde=False, norm_hist=True, bins=np.arange(450,650,1))\n",
    "ax.set(xlabel='Number of Female Students', ylabel='Proportion in Samples')\n",
    "\n",
    "# Add a red point on the plot marking our data\n",
    "plt.scatter(591, 0, marker='o', s=30, color='red')  # draw observed value\n",
    "plt.show()"
   ]
  },
  {
   "cell_type": "markdown",
   "metadata": {},
   "source": [
    "# 2)"
   ]
  },
  {
   "cell_type": "markdown",
   "metadata": {},
   "source": [
    "## a)"
   ]
  },
  {
   "cell_type": "markdown",
   "metadata": {},
   "source": [
    "###  The Null Hypothesis: The distribution of free time after school is uniform.\n",
    "###  The Alternative Hypothesis:The distribution of free time after school is NOT uniform."
   ]
  },
  {
   "cell_type": "markdown",
   "metadata": {},
   "source": [
    "## b)"
   ]
  },
  {
   "cell_type": "markdown",
   "metadata": {},
   "source": [
    "### The test statistic is the tvd(total variation distance) between the uniform probability for each freetime category or level (0.2 for each level) and the probabilty(distribution) of each freetime category we get after drawing a sample sized 1044(size of the dataset) according to the uniform distribution(0.2 for each category)."
   ]
  },
  {
   "cell_type": "markdown",
   "metadata": {},
   "source": [
    "## c)"
   ]
  },
  {
   "cell_type": "markdown",
   "metadata": {},
   "source": [
    "### I''ll use the tvd(total variation distance) method to calculate the observed value but first I'll will need to know the probability of each freetime category(level) in our dataset and then compare or input it in the tvd computing method/function with the uniform probability for freetime which is 0.2 for each category(level)."
   ]
  },
  {
   "cell_type": "code",
   "execution_count": 6,
   "metadata": {},
   "outputs": [
    {
     "data": {
      "text/plain": [
       "<matplotlib.axes._subplots.AxesSubplot at 0x2a82f483948>"
      ]
     },
     "execution_count": 6,
     "metadata": {},
     "output_type": "execute_result"
    },
    {
     "data": {
      "image/png": "[encoded data removed]",
      "text/plain": [
       "<Figure size 432x288 with 1 Axes>"
      ]
     },
     "metadata": {
      "needs_background": "light"
     },
     "output_type": "display_data"
    }
   ],
   "source": [
    "sns.distplot(sdf['freetime'], kde=False, norm_hist=True, bins=np.arange(0.5,6.5,1))"
   ]
  },
  {
   "cell_type": "markdown",
   "metadata": {},
   "source": [
    "### The probability of each freetime category(level) in our dataset(1-5):"
   ]
  },
  {
   "cell_type": "code",
   "execution_count": 7,
   "metadata": {},
   "outputs": [
    {
     "name": "stdout",
     "output_type": "stream",
     "text": [
      "0.06130268199233716 0.16379310344827586 0.39080459770114945 0.28065134099616856 0.10344827586206896\n"
     ]
    }
   ],
   "source": [
    "sdf_ft1_prob = (sdf['freetime'][sdf['freetime'] == 1].count())/(sdf['freetime'].count()) #ft1= freetime equals 1 #prob=probability \n",
    "sdf_ft2_prob = (sdf['freetime'][sdf['freetime'] == 2].count())/(sdf['freetime'].count())\n",
    "sdf_ft3_prob = (sdf['freetime'][sdf['freetime'] == 3].count())/(sdf['freetime'].count())\n",
    "sdf_ft4_prob = (sdf['freetime'][sdf['freetime'] == 4].count())/(sdf['freetime'].count())\n",
    "sdf_ft5_prob = (sdf['freetime'][sdf['freetime'] == 5].count())/(sdf['freetime'].count())\n",
    "print(sdf_ft1_prob, sdf_ft2_prob, sdf_ft3_prob, sdf_ft4_prob, sdf_ft5_prob)"
   ]
  },
  {
   "cell_type": "markdown",
   "metadata": {},
   "source": [
    "### Below I'll create a function that computes the tvd in our data which is our observed value. "
   ]
  },
  {
   "cell_type": "code",
   "execution_count": 8,
   "metadata": {},
   "outputs": [
    {
     "data": {
      "text/plain": [
       "0.271455938697318"
      ]
     },
     "execution_count": 8,
     "metadata": {},
     "output_type": "execute_result"
    }
   ],
   "source": [
    "freetime_groups = ['ft1', 'ft2', 'ft3', 'ft4', 'ft5'] #ft=freetime #sdf=students data frame \n",
    "freetime_dist = [0.2, 0.2, 0.2, 0.2, 0.2] # uniform distribution\n",
    "sdf_ft_dist = [sdf_ft1_prob, sdf_ft2_prob, sdf_ft3_prob, sdf_ft4_prob, sdf_ft5_prob] # distribution in sdf\n",
    "\n",
    "# function for computing total variation distance\n",
    "def compute_tvd(sample1_vals, sample2_vals):\n",
    "    return (np.sum(np.absolute(sample1_vals-sample2_vals)))/2\n",
    "\n",
    "tvd_sdf_ft = compute_tvd(np.array(freetime_dist),np.array(sdf_ft_dist)) #sdf=students data frame #ft=freetime\n",
    "tvd_sdf_ft"
   ]
  },
  {
   "cell_type": "markdown",
   "metadata": {},
   "source": [
    "### The observed value is 0.271455938697318."
   ]
  },
  {
   "cell_type": "markdown",
   "metadata": {},
   "source": [
    "### We can now simulate random free time levels samples of size 1044 (sample size = total number of students in sdf) based on a uniform distribution, and check the total variation distance between the values we get and the uniform distribution. Then, we can see whether a distance of 0.271455938697318 is reasonable given our model.\n",
    "\n",
    "### First, let's write a code to simulate one value of the statistic, under the null:"
   ]
  },
  {
   "cell_type": "code",
   "execution_count": 9,
   "metadata": {},
   "outputs": [
    {
     "data": {
      "text/plain": [
       "0.017816091954022978"
      ]
     },
     "execution_count": 9,
     "metadata": {},
     "output_type": "execute_result"
    }
   ],
   "source": [
    "# function for simulating one value of the statistic under the null\n",
    "sdf_size = 1044 #we have 1044 students\n",
    "def simulate_ft_dist_distance(): #ft_dist=freetime distribution\n",
    "    # first, draw a simple random sample under the null\n",
    "    sdf_ft_sample = np.random.choice(freetime_groups, p=freetime_dist, size=sdf_size)\n",
    "    # second, count the number of elements of each group\n",
    "    sdf_ft_sample_group_counts = []\n",
    "    for group in freetime_groups:\n",
    "        sdf_ft_sample_group_counts.append(np.count_nonzero(sdf_ft_sample == group))\n",
    "    # third, get the proportions in the sample\n",
    "    proportions_in_sample = np.divide(sdf_ft_sample_group_counts, sdf_size)\n",
    "    # finally, get TVD between sample and uniform distribution\n",
    "    distance = compute_tvd(np.array(freetime_dist), proportions_in_sample)\n",
    "    return distance\n",
    "\n",
    "simulate_ft_dist_distance()"
   ]
  },
  {
   "cell_type": "markdown",
   "metadata": {},
   "source": [
    "### Now, let's get an empirical distribution of the test statistic and calculate the P-Value:"
   ]
  },
  {
   "cell_type": "code",
   "execution_count": 10,
   "metadata": {},
   "outputs": [
    {
     "name": "stdout",
     "output_type": "stream",
     "text": [
      "The p-value is 0.0\n"
     ]
    }
   ],
   "source": [
    "#running multiple simulations\n",
    "num_repetitions = 10000\n",
    "many_tvds = np.empty(num_repetitions)\n",
    "for i in range(num_repetitions):\n",
    "    many_tvds[i] = simulate_ft_dist_distance()\n",
    "    \n",
    "many_tvds\n",
    "\n",
    "num_samples_with_tvd_as_we_got_or_more = np.count_nonzero(many_tvds >= tvd_sdf_ft)\n",
    "print ('The p-value is', num_samples_with_tvd_as_we_got_or_more/num_repetitions)"
   ]
  },
  {
   "cell_type": "markdown",
   "metadata": {},
   "source": [
    "## d)"
   ]
  },
  {
   "cell_type": "markdown",
   "metadata": {},
   "source": [
    "### The Null Hypothesis is wrong. The distribution of free time after school is NOT uniform.\n",
    "### The P-Value = 0 received is lower than the required significance level = 0.05 which means I will reject the Null Hypothesis."
   ]
  },
  {
   "cell_type": "code",
   "execution_count": 11,
   "metadata": {},
   "outputs": [
    {
     "data": {
      "image/png": "[encoded data removed]",
      "text/plain": [
       "<Figure size 432x288 with 1 Axes>"
      ]
     },
     "metadata": {
      "needs_background": "light"
     },
     "output_type": "display_data"
    }
   ],
   "source": [
    "# visualizing the results\n",
    "ax = sns.distplot(many_tvds, kde=False, norm_hist=True)\n",
    "ax.set(xlabel='Distance between sdf_freetime distribution and uniform freetime distribution', ylabel='proportion simulations')\n",
    "plt.scatter(tvd_sdf_ft, 0, color='red', s=30) # shows red dot where the value of the test statistic is\n",
    "plt.show()"
   ]
  },
  {
   "cell_type": "markdown",
   "metadata": {},
   "source": [
    "# 3)"
   ]
  },
  {
   "cell_type": "markdown",
   "metadata": {},
   "source": [
    "## a)"
   ]
  },
  {
   "cell_type": "markdown",
   "metadata": {},
   "source": [
    "### The Null Hypothesis : Students who drink a lot (4 or 5 Dalc) DON'T get different final grades in math courses than students who drink less (1–3 Dalc).(The difference is due to chance)\n",
    "### The Alternative Hypothesis : Students who drink a lot (4 or 5 Dalc) get different final grades in math courses than students who drink less (1–3 Dalc)."
   ]
  },
  {
   "cell_type": "markdown",
   "metadata": {},
   "source": [
    "## b)"
   ]
  },
  {
   "cell_type": "code",
   "execution_count": 12,
   "metadata": {},
   "outputs": [
    {
     "data": {
      "text/plain": [
       "<seaborn.axisgrid.FacetGrid at 0x2a82f56cf08>"
      ]
     },
     "execution_count": 12,
     "metadata": {},
     "output_type": "execute_result"
    },
    {
     "data": {
      "image/png": "[encoded data removed]",
      "text/plain": [
       "<Figure size 360x360 with 1 Axes>"
      ]
     },
     "metadata": {
      "needs_background": "light"
     },
     "output_type": "display_data"
    }
   ],
   "source": [
    "sns.catplot(data=sdf, x='Dalc', y='G3', kind='box', showmeans=True)"
   ]
  },
  {
   "cell_type": "code",
   "execution_count": 13,
   "metadata": {},
   "outputs": [
    {
     "name": "stdout",
     "output_type": "stream",
     "text": [
      "The average Math final grade for 1<=Dalc<=3 is : 10.421750663129973\n",
      "The average Math final grade for 4<=Dalc<=5 is : 10.277777777777779\n"
     ]
    }
   ],
   "source": [
    "Dalc1_3_G3_Math_Mean = sdf['G3'][sdf['Dalc'] <= 3][sdf['class'] == 'Math'].mean()\n",
    "Dalc4_5_G3_Math_Mean = sdf['G3'][sdf['Dalc'] > 3][sdf['class'] == 'Math'].mean()\n",
    "print('The average Math final grade for 1<=Dalc<=3 is :',Dalc1_3_G3_Math_Mean)\n",
    "print('The average Math final grade for 4<=Dalc<=5 is :',Dalc4_5_G3_Math_Mean)"
   ]
  },
  {
   "cell_type": "code",
   "execution_count": 14,
   "metadata": {},
   "outputs": [
    {
     "data": {
      "text/plain": [
       "0.14397288535219488"
      ]
     },
     "execution_count": 14,
     "metadata": {},
     "output_type": "execute_result"
    }
   ],
   "source": [
    "observed_value = np.sum(Dalc1_3_G3_Math_Mean-Dalc4_5_G3_Math_Mean) #the difference in averages in absolute value\n",
    "observed_value"
   ]
  },
  {
   "cell_type": "markdown",
   "metadata": {},
   "source": [
    "### Our observed value will be the difference in averages in absolute value which is  0.14397288535219488."
   ]
  },
  {
   "cell_type": "markdown",
   "metadata": {},
   "source": [
    "### I'm using absolute value because the question asked is \"Do students who drink a lot (4 or 5 Dalc) get different final grades in math courses than students who drink less (1–3 Dalc)?\". So I'm checking if the grades are different and not only if they're either lower or higher but both. So negative and postive are the same from my point of view(like distance).  "
   ]
  },
  {
   "cell_type": "markdown",
   "metadata": {},
   "source": [
    "### Should we take 2 random samples of students(grades) the first with size 377 and the other sized 18 from the Math class & calculate the difference in means in absolute value between the 2 samples then the observed value is supposed to be consistent with the result we get according to the Null."
   ]
  },
  {
   "cell_type": "markdown",
   "metadata": {},
   "source": [
    "### Now I'll look for the sample sizes of our samples :"
   ]
  },
  {
   "cell_type": "code",
   "execution_count": 16,
   "metadata": {},
   "outputs": [
    {
     "data": {
      "text/plain": [
       "377"
      ]
     },
     "execution_count": 16,
     "metadata": {},
     "output_type": "execute_result"
    }
   ],
   "source": [
    "sizeDalc1_3 = sdf['G3'][sdf['Dalc'] <= 3][sdf['class'] == 'Math'].count()\n",
    "sizeDalc1_3"
   ]
  },
  {
   "cell_type": "code",
   "execution_count": 17,
   "metadata": {},
   "outputs": [
    {
     "data": {
      "text/plain": [
       "18"
      ]
     },
     "execution_count": 17,
     "metadata": {},
     "output_type": "execute_result"
    }
   ],
   "source": [
    "sizeDalc4_5 = sdf['G3'][sdf['Dalc'] > 3][sdf['class'] == 'Math'].count()\n",
    "sizeDalc4_5"
   ]
  },
  {
   "cell_type": "markdown",
   "metadata": {},
   "source": [
    "### Below I'll create a function that returns the difference between sample means:"
   ]
  },
  {
   "cell_type": "code",
   "execution_count": 18,
   "metadata": {},
   "outputs": [],
   "source": [
    " # Note here, we need to sample WITHOUT REPLACEMENT, since the same student cannot be in the same sample more than once\n",
    "def samples_mean_diff():\n",
    "    random_Math_Students_sizeDalc1_3 = sdf[sdf['class']=='Math'].sample(n=sizeDalc1_3, replace=False)\n",
    "    random_Math_Students_sizeDalc4_5 = sdf[sdf['class']=='Math'].sample(n=sizeDalc4_5, replace=False)\n",
    "    mean_grade1 = random_Math_Students_sizeDalc1_3['G3'].mean()\n",
    "    mean_grade2 = random_Math_Students_sizeDalc4_5['G3'].mean()\n",
    "    return  np.sum(mean_grade1-mean_grade2)    "
   ]
  },
  {
   "cell_type": "markdown",
   "metadata": {},
   "source": [
    "### Now I'll  simulate the function above 5000 times and check how many times the outcome of the function is bigger than the observed value and then divide that number by the number of simulations to get the P-Value.   "
   ]
  },
  {
   "cell_type": "code",
   "execution_count": 19,
   "metadata": {},
   "outputs": [
    {
     "name": "stdout",
     "output_type": "stream",
     "text": [
      "The P-Value is 0.4328\n"
     ]
    }
   ],
   "source": [
    "# run multiple simulations\n",
    "num_sims = 5000 # number of simulations(repetitions)\n",
    "many_mean_diffs = np.empty(num_sims) #an array that will contain all of the 5000 mean differences in absolute value\n",
    "for i in range(num_sims):\n",
    "    many_mean_diffs[i] = samples_mean_diff() \n",
    "    \n",
    "\n",
    "# Computing the p-value\n",
    "num_samples_equal_to_observed_value_we_got_or_bigger = np.count_nonzero(many_mean_diffs >= observed_value) \n",
    "print('The P-Value is', num_samples_equal_to_observed_value_we_got_or_bigger/num_sims)\n"
   ]
  },
  {
   "cell_type": "markdown",
   "metadata": {},
   "source": [
    "## c)"
   ]
  },
  {
   "cell_type": "markdown",
   "metadata": {},
   "source": [
    "### The Null Hypothesis is right.  Students who drink a lot (4 or 5 Dalc) DON'T get different final grades in math courses than students who drink less (1–3 Dalc).\n",
    "### The P-Value = 0.4436 received is higher than the required significance level = 0.05 which means I will accept the Null Hypothesis."
   ]
  },
  {
   "cell_type": "code",
   "execution_count": 20,
   "metadata": {},
   "outputs": [
    {
     "data": {
      "image/png": "[encoded data removed]",
      "text/plain": [
       "<Figure size 432x288 with 1 Axes>"
      ]
     },
     "metadata": {
      "needs_background": "light"
     },
     "output_type": "display_data"
    }
   ],
   "source": [
    "# visualizing the results\n",
    "ax = sns.distplot(many_mean_diffs, kde=False, norm_hist=True)\n",
    "ax.set(xlabel='Mean Differnce in Absolute Value ', ylabel='Empirical Density in Simulations')\n",
    "plt.scatter(observed_value, 0, color='red', s=30) # shows red dot where the value of the test statistic is\n",
    "plt.show()"
   ]
  },
  {
   "cell_type": "markdown",
   "metadata": {},
   "source": [
    "# 4)"
   ]
  },
  {
   "cell_type": "markdown",
   "metadata": {},
   "source": [
    "### The HW2-data is actually a sample, so the population parameter is actually unknown. I'll estimate a 95% condifence interval for the population median for a first period grade in Portuguese."
   ]
  },
  {
   "cell_type": "markdown",
   "metadata": {},
   "source": [
    "### First I'll calculate the median from our data(the original sample): "
   ]
  },
  {
   "cell_type": "code",
   "execution_count": 170,
   "metadata": {},
   "outputs": [
    {
     "data": {
      "text/plain": [
       "11.0"
      ]
     },
     "execution_count": 170,
     "metadata": {},
     "output_type": "execute_result"
    }
   ],
   "source": [
    "portuguese_sample = sdf[sdf['class']=='Portuguese'] #the original sample\n",
    "portuguese_sample['G1'].median()"
   ]
  },
  {
   "cell_type": "code",
   "execution_count": 167,
   "metadata": {},
   "outputs": [
    {
     "data": {
      "text/plain": [
       "<matplotlib.axes._subplots.AxesSubplot at 0x2adeeb47b08>"
      ]
     },
     "execution_count": 167,
     "metadata": {},
     "output_type": "execute_result"
    },
    {
     "data": {
      "image/png": "[encoded data removed]",
      "text/plain": [
       "<Figure size 432x288 with 1 Axes>"
      ]
     },
     "metadata": {
      "needs_background": "light"
     },
     "output_type": "display_data"
    }
   ],
   "source": [
    "sns.distplot(portuguese_sample['G1'], kde=False, norm_hist=True)"
   ]
  },
  {
   "cell_type": "markdown",
   "metadata": {},
   "source": [
    "### I'll define a function called bootstrap_median that takes our original sample, the name of the column containing the variable of interest, and the number of bootstrap samples we want to take, and returns an array of the corresponding resampled medians.\n",
    "### Each time we resample and find the median, we replicate the bootstrap process. So the number of bootstrap samples will be called the number of replications."
   ]
  },
  {
   "cell_type": "markdown",
   "metadata": {},
   "source": [
    "### This is just a single estimate for the median of a first period grade in Portuguese in the population.I'll estimate this unknown (fixed) number using the Bootstrap method:\n",
    "\n"
   ]
  },
  {
   "cell_type": "code",
   "execution_count": 172,
   "metadata": {},
   "outputs": [
    {
     "name": "stdout",
     "output_type": "stream",
     "text": [
      "The 95% boostsrap confidence interval for population median is [11.0, 12.0]\n"
     ]
    },
    {
     "data": {
      "text/plain": [
       "<matplotlib.collections.LineCollection at 0x2adef6ddbc8>"
      ]
     },
     "execution_count": 172,
     "metadata": {},
     "output_type": "execute_result"
    },
    {
     "data": {
      "image/png": "[encoded data removed]",
      "text/plain": [
       "<Figure size 432x288 with 1 Axes>"
      ]
     },
     "metadata": {
      "needs_background": "light"
     },
     "output_type": "display_data"
    }
   ],
   "source": [
    "# This function returns an array of bootstrapped sample medians:\n",
    "#     original_sample: df containing the original sample #portuguese_sample\n",
    "#     column_name: name of column containing the variable of interest #G1 in this case\n",
    "#     num_replications: number of bootstrap samples\n",
    "def bootstrap_median(original_sample, column_name, num_replications):\n",
    "    original_sample_size = original_sample.shape[0] # we need to replicate with the same sample size\n",
    "    original_sample_var_of_interest = original_sample[[column_name]]\n",
    "    bstrap_medians = np.empty(num_replications)\n",
    "    for i in range(num_replications):\n",
    "        bootstrap_sample = original_sample_var_of_interest.sample(original_sample_size, replace=True) # note WITH REPLACEMENT!\n",
    "        resampled_median = bootstrap_sample.median()\n",
    "        bstrap_medians[i] = resampled_median\n",
    "    \n",
    "    return bstrap_medians\n",
    "\n",
    "# run the bootstrap procedure\n",
    "medians_bootstrapped = bootstrap_median(portuguese_sample,'G1' , 5000)\n",
    "\n",
    "# Get the endpoints of the 95% confidence interval\n",
    "left_end = np.percentile(medians_bootstrapped, 2.5, interpolation='higher')\n",
    "right_end = np.percentile(medians_bootstrapped, 97.5, interpolation='higher')\n",
    "print('The 95% boostsrap confidence interval for population median is', [left_end,right_end])\n",
    "\n",
    "# visualize results\n",
    "ax = sns.distplot(medians_bootstrapped, kde=False)\n",
    "plt.hlines(y=0, xmin=left_end, xmax=right_end, colors='orange', linestyles='solid', lw=7)  # lw controls thickness of line"
   ]
  },
  {
   "cell_type": "markdown",
   "metadata": {},
   "source": [
    "### The 95% boostsrap confidence interval for the population median for a first period grade in Portuguese is \n",
    "### [11.0, 12.0] ."
   ]
  },
  {
   "cell_type": "markdown",
   "metadata": {},
   "source": [
    "# 5)"
   ]
  },
  {
   "cell_type": "markdown",
   "metadata": {},
   "source": [
    "### It's very problematic to bootstrap a very small sample because the idea of bootstrap is based on the law of averages, and according to it the smaller the original sample the smaller the chance that it's distribution will resemble the population, and the distributions of all the “resamples” are less likely to resemble the original sample. So the distributions of all the resamples are even way less likely to resemble the population. So using bootstrapping in such cases would be misleading. "
   ]
  },
  {
   "cell_type": "markdown",
   "metadata": {},
   "source": [
    "# 6)"
   ]
  },
  {
   "cell_type": "markdown",
   "metadata": {},
   "source": [
    "### No, I would not trust these results and the reason behind that is simply that the sample isn't random because it was collected at the entrance of \"Bet Hastudent\" which is the same place where's Sushi located and thus to survey there is biased towards Sushi's favor in the rating (Nuna is located further away(Physics)). And in general if a sample is biased then bootstrap won't be helpful."
   ]
  },
  {
   "cell_type": "code",
   "execution_count": null,
   "metadata": {},
   "outputs": [],
   "source": []
  }
 ],
 "metadata": {
  "kernelspec": {
   "display_name": "Python 3",
   "language": "python",
   "name": "python3"
  },
  "language_info": {
   "codemirror_mode": {
    "name": "ipython",
    "version": 3
   },
   "file_extension": ".py",
   "mimetype": "text/x-python",
   "name": "python",
   "nbconvert_exporter": "python",
   "pygments_lexer": "ipython3",
   "version": "3.7.4"
  }
 },
 "nbformat": 4,
 "nbformat_minor": 2
}
